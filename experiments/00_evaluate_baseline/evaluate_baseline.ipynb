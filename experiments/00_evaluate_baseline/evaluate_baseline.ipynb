{
 "metadata": {
  "language_info": {
   "codemirror_mode": {
    "name": "ipython",
    "version": 3
   },
   "file_extension": ".py",
   "mimetype": "text/x-python",
   "name": "python",
   "nbconvert_exporter": "python",
   "pygments_lexer": "ipython3",
   "version": "3.8.6-final"
  },
  "orig_nbformat": 2,
  "kernelspec": {
   "name": "python3",
   "display_name": "Python 3",
   "language": "python"
  }
 },
 "nbformat": 4,
 "nbformat_minor": 2,
 "cells": [
  {
   "source": [
    "# Baseline Evaluation"
   ],
   "cell_type": "markdown",
   "metadata": {}
  },
  {
   "source": [
    "We provide three simple agents as a baseline: random agent, greedy agent, and greedy defending agent.\n",
    "\n",
    "Random agent chooses randomly from available positions. Greedy agent looks for a move that completes the longest sequence which can be extended to five-in-a-row. Greedy defending agent also looks for the opposition's greedy move, and looks to prevent the move when appropriate.\n",
    "\n",
    "In this notebook we evaluate these agents by running them against each other."
   ],
   "cell_type": "markdown",
   "metadata": {}
  },
  {
   "cell_type": "code",
   "execution_count": 1,
   "metadata": {},
   "outputs": [],
   "source": [
    "import numpy as np\n",
    "import pandas as pd\n",
    "from tqdm import trange\n",
    "from time import sleep\n",
    "\n",
    "# may need to update sys.path to import?\n",
    "from gomoku.manager import GameManager"
   ]
  },
  {
   "cell_type": "code",
   "execution_count": 2,
   "metadata": {},
   "outputs": [],
   "source": [
    "agent_names = [\"random\", \"greedy\", \"greedy_defender\"]\n",
    "\n",
    "def evaluate_game(game: GameManager, runs: int = 100):\n",
    "    results_df = pd.DataFrame(columns=['black', 'white', 'wins (black)', 'wins (white)', 'ties'])\n",
    "    for agent1 in agent_names:\n",
    "        for agent2 in agent_names:\n",
    "            print(f\"Running {agent1} against {agent2}\")\n",
    "            sleep(0.5)\n",
    "\n",
    "            # array containing results: dummy, agent1 (1), agent2 (2), tie (-1)\n",
    "            results = [0] * 4\n",
    "            for _ in trange(runs):\n",
    "                winner = game.run_game(agent1, agent2)\n",
    "                results[winner.value] += 1\n",
    "\n",
    "            results_df.loc[len(results_df)] = [agent1, agent2] + results[1:]\n",
    "            print(f\"Results: black({agent1}): {results[1]}, white({agent2}): {results[2]}, ties: {results[3]}\")\n",
    "    return results_df"
   ]
  },
  {
   "cell_type": "code",
   "execution_count": 3,
   "metadata": {},
   "outputs": [],
   "source": [
    "# pivot results table\n",
    "def pivot_table(df_input: pd.DataFrame):\n",
    "    df = df_input.copy()\n",
    "    idx = pd.IndexSlice\n",
    "    df = df.pivot(index='black', columns='white', values=['wins (black)', 'wins (white)', 'ties']).astype(str)\n",
    "    df = df.loc[:,idx['wins (black)',:]] + '/' \\\n",
    "        + df.loc[:,idx['wins (white)',:]].values + '/' \\\n",
    "        + df.loc[:,idx['ties',:]].values\n",
    "    df = df.droplevel(axis=1, level=0)\n",
    "    return df"
   ]
  },
  {
   "source": [
    "## 5 x 5 board"
   ],
   "cell_type": "markdown",
   "metadata": {}
  },
  {
   "cell_type": "code",
   "execution_count": 4,
   "metadata": {},
   "outputs": [
    {
     "output_type": "stream",
     "name": "stdout",
     "text": [
      "Running random against random\n",
      "100%|██████████| 100/100 [00:01<00:00, 89.06it/s]\n",
      "Results: black(random): 19, white(random): 17, ties: 64\n",
      "Running random against greedy\n",
      "100%|██████████| 100/100 [00:03<00:00, 28.47it/s]\n",
      "Results: black(random): 0, white(greedy): 100, ties: 0\n",
      "Running random against greedy_defender\n",
      "100%|██████████| 100/100 [00:06<00:00, 16.29it/s]\n",
      "Results: black(random): 0, white(greedy_defender): 97, ties: 3\n",
      "Running greedy against random\n",
      "100%|██████████| 100/100 [00:03<00:00, 30.64it/s]\n",
      "Results: black(greedy): 100, white(random): 0, ties: 0\n",
      "Running greedy against greedy\n",
      "100%|██████████| 100/100 [00:05<00:00, 18.32it/s]\n",
      "Results: black(greedy): 72, white(greedy): 28, ties: 0\n",
      "Running greedy against greedy_defender\n",
      "100%|██████████| 100/100 [00:10<00:00,  9.29it/s]\n",
      "Results: black(greedy): 0, white(greedy_defender): 89, ties: 11\n",
      "Running greedy_defender against random\n",
      "100%|██████████| 100/100 [00:06<00:00, 16.59it/s]\n",
      "Results: black(greedy_defender): 96, white(random): 0, ties: 4\n",
      "Running greedy_defender against greedy\n",
      "100%|██████████| 100/100 [00:08<00:00, 11.71it/s]\n",
      "Results: black(greedy_defender): 100, white(greedy): 0, ties: 0\n",
      "Running greedy_defender against greedy_defender\n",
      "100%|██████████| 100/100 [00:15<00:00,  6.41it/s]Results: black(greedy_defender): 0, white(greedy_defender): 0, ties: 100\n",
      "\n"
     ]
    }
   ],
   "source": [
    "df_5 = evaluate_game(GameManager(size=5, quiet=True))"
   ]
  },
  {
   "cell_type": "code",
   "execution_count": 5,
   "metadata": {},
   "outputs": [
    {
     "output_type": "execute_result",
     "data": {
      "text/plain": [
       "             black            white wins (black) wins (white) ties\n",
       "0           random           random           19           17   64\n",
       "1           random           greedy            0          100    0\n",
       "2           random  greedy_defender            0           97    3\n",
       "3           greedy           random          100            0    0\n",
       "4           greedy           greedy           72           28    0\n",
       "5           greedy  greedy_defender            0           89   11\n",
       "6  greedy_defender           random           96            0    4\n",
       "7  greedy_defender           greedy          100            0    0\n",
       "8  greedy_defender  greedy_defender            0            0  100"
      ],
      "text/html": "<div>\n<style scoped>\n    .dataframe tbody tr th:only-of-type {\n        vertical-align: middle;\n    }\n\n    .dataframe tbody tr th {\n        vertical-align: top;\n    }\n\n    .dataframe thead th {\n        text-align: right;\n    }\n</style>\n<table border=\"1\" class=\"dataframe\">\n  <thead>\n    <tr style=\"text-align: right;\">\n      <th></th>\n      <th>black</th>\n      <th>white</th>\n      <th>wins (black)</th>\n      <th>wins (white)</th>\n      <th>ties</th>\n    </tr>\n  </thead>\n  <tbody>\n    <tr>\n      <th>0</th>\n      <td>random</td>\n      <td>random</td>\n      <td>19</td>\n      <td>17</td>\n      <td>64</td>\n    </tr>\n    <tr>\n      <th>1</th>\n      <td>random</td>\n      <td>greedy</td>\n      <td>0</td>\n      <td>100</td>\n      <td>0</td>\n    </tr>\n    <tr>\n      <th>2</th>\n      <td>random</td>\n      <td>greedy_defender</td>\n      <td>0</td>\n      <td>97</td>\n      <td>3</td>\n    </tr>\n    <tr>\n      <th>3</th>\n      <td>greedy</td>\n      <td>random</td>\n      <td>100</td>\n      <td>0</td>\n      <td>0</td>\n    </tr>\n    <tr>\n      <th>4</th>\n      <td>greedy</td>\n      <td>greedy</td>\n      <td>72</td>\n      <td>28</td>\n      <td>0</td>\n    </tr>\n    <tr>\n      <th>5</th>\n      <td>greedy</td>\n      <td>greedy_defender</td>\n      <td>0</td>\n      <td>89</td>\n      <td>11</td>\n    </tr>\n    <tr>\n      <th>6</th>\n      <td>greedy_defender</td>\n      <td>random</td>\n      <td>96</td>\n      <td>0</td>\n      <td>4</td>\n    </tr>\n    <tr>\n      <th>7</th>\n      <td>greedy_defender</td>\n      <td>greedy</td>\n      <td>100</td>\n      <td>0</td>\n      <td>0</td>\n    </tr>\n    <tr>\n      <th>8</th>\n      <td>greedy_defender</td>\n      <td>greedy_defender</td>\n      <td>0</td>\n      <td>0</td>\n      <td>100</td>\n    </tr>\n  </tbody>\n</table>\n</div>"
     },
     "metadata": {},
     "execution_count": 5
    }
   ],
   "source": [
    "df_5"
   ]
  },
  {
   "cell_type": "code",
   "execution_count": 6,
   "metadata": {},
   "outputs": [
    {
     "output_type": "execute_result",
     "data": {
      "text/plain": [
       "white             greedy greedy_defender    random\n",
       "black                                             \n",
       "greedy           72/28/0         0/89/11   100/0/0\n",
       "greedy_defender  100/0/0         0/0/100    96/0/4\n",
       "random           0/100/0          0/97/3  19/17/64"
      ],
      "text/html": "<div>\n<style scoped>\n    .dataframe tbody tr th:only-of-type {\n        vertical-align: middle;\n    }\n\n    .dataframe tbody tr th {\n        vertical-align: top;\n    }\n\n    .dataframe thead th {\n        text-align: right;\n    }\n</style>\n<table border=\"1\" class=\"dataframe\">\n  <thead>\n    <tr style=\"text-align: right;\">\n      <th>white</th>\n      <th>greedy</th>\n      <th>greedy_defender</th>\n      <th>random</th>\n    </tr>\n    <tr>\n      <th>black</th>\n      <th></th>\n      <th></th>\n      <th></th>\n    </tr>\n  </thead>\n  <tbody>\n    <tr>\n      <th>greedy</th>\n      <td>72/28/0</td>\n      <td>0/89/11</td>\n      <td>100/0/0</td>\n    </tr>\n    <tr>\n      <th>greedy_defender</th>\n      <td>100/0/0</td>\n      <td>0/0/100</td>\n      <td>96/0/4</td>\n    </tr>\n    <tr>\n      <th>random</th>\n      <td>0/100/0</td>\n      <td>0/97/3</td>\n      <td>19/17/64</td>\n    </tr>\n  </tbody>\n</table>\n</div>"
     },
     "metadata": {},
     "execution_count": 6
    }
   ],
   "source": [
    "pivot_table(df_5)"
   ]
  },
  {
   "source": [
    "It is clear that the greedy agent is better than the random agent, and greedy defender is better than greedy. Games between greedy defender all ended in a tie, which is not surprising on a small board where opposition moves can easily be blocked."
   ],
   "cell_type": "markdown",
   "metadata": {}
  },
  {
   "source": [
    "## 7 x 7 board"
   ],
   "cell_type": "markdown",
   "metadata": {}
  },
  {
   "cell_type": "code",
   "execution_count": 7,
   "metadata": {},
   "outputs": [
    {
     "output_type": "stream",
     "name": "stdout",
     "text": [
      "Running random against random\n",
      "100%|██████████| 100/100 [00:01<00:00, 65.12it/s]\n",
      "Results: black(random): 51, white(random): 43, ties: 6\n",
      "Running random against greedy\n",
      "100%|██████████| 100/100 [00:06<00:00, 14.54it/s]\n",
      "Results: black(random): 0, white(greedy): 100, ties: 0\n",
      "Running random against greedy_defender\n",
      "100%|██████████| 100/100 [00:14<00:00,  6.79it/s]\n",
      "Results: black(random): 0, white(greedy_defender): 100, ties: 0\n",
      "Running greedy against random\n",
      "100%|██████████| 100/100 [00:06<00:00, 14.48it/s]\n",
      "Results: black(greedy): 100, white(random): 0, ties: 0\n",
      "Running greedy against greedy\n",
      "100%|██████████| 100/100 [00:11<00:00,  8.61it/s]\n",
      "Results: black(greedy): 92, white(greedy): 8, ties: 0\n",
      "Running greedy against greedy_defender\n",
      "100%|██████████| 100/100 [00:20<00:00,  4.85it/s]\n",
      "Results: black(greedy): 0, white(greedy_defender): 100, ties: 0\n",
      "Running greedy_defender against random\n",
      "100%|██████████| 100/100 [00:12<00:00,  7.76it/s]\n",
      "Results: black(greedy_defender): 100, white(random): 0, ties: 0\n",
      "Running greedy_defender against greedy\n",
      "100%|██████████| 100/100 [00:18<00:00,  5.50it/s]\n",
      "Results: black(greedy_defender): 100, white(greedy): 0, ties: 0\n",
      "Running greedy_defender against greedy_defender\n",
      "100%|██████████| 100/100 [00:56<00:00,  1.78it/s]Results: black(greedy_defender): 1, white(greedy_defender): 0, ties: 99\n",
      "\n"
     ]
    }
   ],
   "source": [
    "df_7 = evaluate_game(GameManager(size=7, quiet=True))"
   ]
  },
  {
   "cell_type": "code",
   "execution_count": 8,
   "metadata": {},
   "outputs": [
    {
     "output_type": "execute_result",
     "data": {
      "text/plain": [
       "             black            white wins (black) wins (white) ties\n",
       "0           random           random           51           43    6\n",
       "1           random           greedy            0          100    0\n",
       "2           random  greedy_defender            0          100    0\n",
       "3           greedy           random          100            0    0\n",
       "4           greedy           greedy           92            8    0\n",
       "5           greedy  greedy_defender            0          100    0\n",
       "6  greedy_defender           random          100            0    0\n",
       "7  greedy_defender           greedy          100            0    0\n",
       "8  greedy_defender  greedy_defender            1            0   99"
      ],
      "text/html": "<div>\n<style scoped>\n    .dataframe tbody tr th:only-of-type {\n        vertical-align: middle;\n    }\n\n    .dataframe tbody tr th {\n        vertical-align: top;\n    }\n\n    .dataframe thead th {\n        text-align: right;\n    }\n</style>\n<table border=\"1\" class=\"dataframe\">\n  <thead>\n    <tr style=\"text-align: right;\">\n      <th></th>\n      <th>black</th>\n      <th>white</th>\n      <th>wins (black)</th>\n      <th>wins (white)</th>\n      <th>ties</th>\n    </tr>\n  </thead>\n  <tbody>\n    <tr>\n      <th>0</th>\n      <td>random</td>\n      <td>random</td>\n      <td>51</td>\n      <td>43</td>\n      <td>6</td>\n    </tr>\n    <tr>\n      <th>1</th>\n      <td>random</td>\n      <td>greedy</td>\n      <td>0</td>\n      <td>100</td>\n      <td>0</td>\n    </tr>\n    <tr>\n      <th>2</th>\n      <td>random</td>\n      <td>greedy_defender</td>\n      <td>0</td>\n      <td>100</td>\n      <td>0</td>\n    </tr>\n    <tr>\n      <th>3</th>\n      <td>greedy</td>\n      <td>random</td>\n      <td>100</td>\n      <td>0</td>\n      <td>0</td>\n    </tr>\n    <tr>\n      <th>4</th>\n      <td>greedy</td>\n      <td>greedy</td>\n      <td>92</td>\n      <td>8</td>\n      <td>0</td>\n    </tr>\n    <tr>\n      <th>5</th>\n      <td>greedy</td>\n      <td>greedy_defender</td>\n      <td>0</td>\n      <td>100</td>\n      <td>0</td>\n    </tr>\n    <tr>\n      <th>6</th>\n      <td>greedy_defender</td>\n      <td>random</td>\n      <td>100</td>\n      <td>0</td>\n      <td>0</td>\n    </tr>\n    <tr>\n      <th>7</th>\n      <td>greedy_defender</td>\n      <td>greedy</td>\n      <td>100</td>\n      <td>0</td>\n      <td>0</td>\n    </tr>\n    <tr>\n      <th>8</th>\n      <td>greedy_defender</td>\n      <td>greedy_defender</td>\n      <td>1</td>\n      <td>0</td>\n      <td>99</td>\n    </tr>\n  </tbody>\n</table>\n</div>"
     },
     "metadata": {},
     "execution_count": 8
    }
   ],
   "source": [
    "df_7"
   ]
  },
  {
   "cell_type": "code",
   "execution_count": 9,
   "metadata": {},
   "outputs": [
    {
     "output_type": "execute_result",
     "data": {
      "text/plain": [
       "white             greedy greedy_defender   random\n",
       "black                                            \n",
       "greedy            92/8/0         0/100/0  100/0/0\n",
       "greedy_defender  100/0/0          1/0/99  100/0/0\n",
       "random           0/100/0         0/100/0  51/43/6"
      ],
      "text/html": "<div>\n<style scoped>\n    .dataframe tbody tr th:only-of-type {\n        vertical-align: middle;\n    }\n\n    .dataframe tbody tr th {\n        vertical-align: top;\n    }\n\n    .dataframe thead th {\n        text-align: right;\n    }\n</style>\n<table border=\"1\" class=\"dataframe\">\n  <thead>\n    <tr style=\"text-align: right;\">\n      <th>white</th>\n      <th>greedy</th>\n      <th>greedy_defender</th>\n      <th>random</th>\n    </tr>\n    <tr>\n      <th>black</th>\n      <th></th>\n      <th></th>\n      <th></th>\n    </tr>\n  </thead>\n  <tbody>\n    <tr>\n      <th>greedy</th>\n      <td>92/8/0</td>\n      <td>0/100/0</td>\n      <td>100/0/0</td>\n    </tr>\n    <tr>\n      <th>greedy_defender</th>\n      <td>100/0/0</td>\n      <td>1/0/99</td>\n      <td>100/0/0</td>\n    </tr>\n    <tr>\n      <th>random</th>\n      <td>0/100/0</td>\n      <td>0/100/0</td>\n      <td>51/43/6</td>\n    </tr>\n  </tbody>\n</table>\n</div>"
     },
     "metadata": {},
     "execution_count": 9
    }
   ],
   "source": [
    "pivot_table(df_7)"
   ]
  },
  {
   "source": [
    "## 10 x 10"
   ],
   "cell_type": "markdown",
   "metadata": {}
  },
  {
   "cell_type": "code",
   "execution_count": 10,
   "metadata": {},
   "outputs": [
    {
     "output_type": "stream",
     "name": "stdout",
     "text": [
      "Running random against random\n",
      "100%|██████████| 100/100 [00:02<00:00, 36.94it/s]\n",
      "Results: black(random): 48, white(random): 52, ties: 0\n",
      "Running random against greedy\n",
      "100%|██████████| 100/100 [00:15<00:00,  6.45it/s]\n",
      "Results: black(random): 0, white(greedy): 100, ties: 0\n",
      "Running random against greedy_defender\n",
      "100%|██████████| 100/100 [00:31<00:00,  3.16it/s]\n",
      "Results: black(random): 0, white(greedy_defender): 100, ties: 0\n",
      "Running greedy against random\n",
      "100%|██████████| 100/100 [00:15<00:00,  6.47it/s]\n",
      "Results: black(greedy): 100, white(random): 0, ties: 0\n",
      "Running greedy against greedy\n",
      "100%|██████████| 100/100 [00:26<00:00,  3.74it/s]\n",
      "Results: black(greedy): 100, white(greedy): 0, ties: 0\n",
      "Running greedy against greedy_defender\n",
      "100%|██████████| 100/100 [01:08<00:00,  1.46it/s]\n",
      "Results: black(greedy): 7, white(greedy_defender): 93, ties: 0\n",
      "Running greedy_defender against random\n",
      "100%|██████████| 100/100 [00:31<00:00,  3.15it/s]\n",
      "Results: black(greedy_defender): 100, white(random): 0, ties: 0\n",
      "Running greedy_defender against greedy\n",
      "100%|██████████| 100/100 [00:40<00:00,  2.48it/s]\n",
      "Results: black(greedy_defender): 100, white(greedy): 0, ties: 0\n",
      "Running greedy_defender against greedy_defender\n",
      "100%|██████████| 100/100 [03:24<00:00,  2.05s/it]Results: black(greedy_defender): 30, white(greedy_defender): 45, ties: 25\n",
      "\n"
     ]
    }
   ],
   "source": [
    "df_10 = evaluate_game(GameManager(size=10, quiet=True))"
   ]
  },
  {
   "cell_type": "code",
   "execution_count": 11,
   "metadata": {},
   "outputs": [
    {
     "output_type": "execute_result",
     "data": {
      "text/plain": [
       "             black            white wins (black) wins (white) ties\n",
       "0           random           random           48           52    0\n",
       "1           random           greedy            0          100    0\n",
       "2           random  greedy_defender            0          100    0\n",
       "3           greedy           random          100            0    0\n",
       "4           greedy           greedy          100            0    0\n",
       "5           greedy  greedy_defender            7           93    0\n",
       "6  greedy_defender           random          100            0    0\n",
       "7  greedy_defender           greedy          100            0    0\n",
       "8  greedy_defender  greedy_defender           30           45   25"
      ],
      "text/html": "<div>\n<style scoped>\n    .dataframe tbody tr th:only-of-type {\n        vertical-align: middle;\n    }\n\n    .dataframe tbody tr th {\n        vertical-align: top;\n    }\n\n    .dataframe thead th {\n        text-align: right;\n    }\n</style>\n<table border=\"1\" class=\"dataframe\">\n  <thead>\n    <tr style=\"text-align: right;\">\n      <th></th>\n      <th>black</th>\n      <th>white</th>\n      <th>wins (black)</th>\n      <th>wins (white)</th>\n      <th>ties</th>\n    </tr>\n  </thead>\n  <tbody>\n    <tr>\n      <th>0</th>\n      <td>random</td>\n      <td>random</td>\n      <td>48</td>\n      <td>52</td>\n      <td>0</td>\n    </tr>\n    <tr>\n      <th>1</th>\n      <td>random</td>\n      <td>greedy</td>\n      <td>0</td>\n      <td>100</td>\n      <td>0</td>\n    </tr>\n    <tr>\n      <th>2</th>\n      <td>random</td>\n      <td>greedy_defender</td>\n      <td>0</td>\n      <td>100</td>\n      <td>0</td>\n    </tr>\n    <tr>\n      <th>3</th>\n      <td>greedy</td>\n      <td>random</td>\n      <td>100</td>\n      <td>0</td>\n      <td>0</td>\n    </tr>\n    <tr>\n      <th>4</th>\n      <td>greedy</td>\n      <td>greedy</td>\n      <td>100</td>\n      <td>0</td>\n      <td>0</td>\n    </tr>\n    <tr>\n      <th>5</th>\n      <td>greedy</td>\n      <td>greedy_defender</td>\n      <td>7</td>\n      <td>93</td>\n      <td>0</td>\n    </tr>\n    <tr>\n      <th>6</th>\n      <td>greedy_defender</td>\n      <td>random</td>\n      <td>100</td>\n      <td>0</td>\n      <td>0</td>\n    </tr>\n    <tr>\n      <th>7</th>\n      <td>greedy_defender</td>\n      <td>greedy</td>\n      <td>100</td>\n      <td>0</td>\n      <td>0</td>\n    </tr>\n    <tr>\n      <th>8</th>\n      <td>greedy_defender</td>\n      <td>greedy_defender</td>\n      <td>30</td>\n      <td>45</td>\n      <td>25</td>\n    </tr>\n  </tbody>\n</table>\n</div>"
     },
     "metadata": {},
     "execution_count": 11
    }
   ],
   "source": [
    "df_10"
   ]
  },
  {
   "cell_type": "code",
   "execution_count": 12,
   "metadata": {},
   "outputs": [
    {
     "output_type": "execute_result",
     "data": {
      "text/plain": [
       "white             greedy greedy_defender   random\n",
       "black                                            \n",
       "greedy           100/0/0          7/93/0  100/0/0\n",
       "greedy_defender  100/0/0        30/45/25  100/0/0\n",
       "random           0/100/0         0/100/0  48/52/0"
      ],
      "text/html": "<div>\n<style scoped>\n    .dataframe tbody tr th:only-of-type {\n        vertical-align: middle;\n    }\n\n    .dataframe tbody tr th {\n        vertical-align: top;\n    }\n\n    .dataframe thead th {\n        text-align: right;\n    }\n</style>\n<table border=\"1\" class=\"dataframe\">\n  <thead>\n    <tr style=\"text-align: right;\">\n      <th>white</th>\n      <th>greedy</th>\n      <th>greedy_defender</th>\n      <th>random</th>\n    </tr>\n    <tr>\n      <th>black</th>\n      <th></th>\n      <th></th>\n      <th></th>\n    </tr>\n  </thead>\n  <tbody>\n    <tr>\n      <th>greedy</th>\n      <td>100/0/0</td>\n      <td>7/93/0</td>\n      <td>100/0/0</td>\n    </tr>\n    <tr>\n      <th>greedy_defender</th>\n      <td>100/0/0</td>\n      <td>30/45/25</td>\n      <td>100/0/0</td>\n    </tr>\n    <tr>\n      <th>random</th>\n      <td>0/100/0</td>\n      <td>0/100/0</td>\n      <td>48/52/0</td>\n    </tr>\n  </tbody>\n</table>\n</div>"
     },
     "metadata": {},
     "execution_count": 12
    }
   ],
   "source": [
    "pivot_table(df_10)"
   ]
  },
  {
   "source": [
    "Here we start seeing wins/losses in games between two greedy defending agents, which suggests 10x10 is a good starting point for trying to improve this agent."
   ],
   "cell_type": "markdown",
   "metadata": {}
  },
  {
   "source": [
    "## 14 x 14"
   ],
   "cell_type": "markdown",
   "metadata": {}
  },
  {
   "cell_type": "code",
   "execution_count": 13,
   "metadata": {},
   "outputs": [
    {
     "output_type": "stream",
     "name": "stdout",
     "text": [
      "Running random against random\n",
      "100%|██████████| 100/100 [00:04<00:00, 21.51it/s]\n",
      "Results: black(random): 52, white(random): 48, ties: 0\n",
      "Running random against greedy\n",
      "100%|██████████| 100/100 [00:33<00:00,  2.95it/s]\n",
      "Results: black(random): 0, white(greedy): 100, ties: 0\n",
      "Running random against greedy_defender\n",
      "100%|██████████| 100/100 [01:01<00:00,  1.63it/s]\n",
      "Results: black(random): 0, white(greedy_defender): 100, ties: 0\n",
      "Running greedy against random\n",
      "100%|██████████| 100/100 [00:31<00:00,  3.16it/s]\n",
      "Results: black(greedy): 100, white(random): 0, ties: 0\n",
      "Running greedy against greedy\n",
      "100%|██████████| 100/100 [00:55<00:00,  1.80it/s]\n",
      "Results: black(greedy): 100, white(greedy): 0, ties: 0\n",
      "Running greedy against greedy_defender\n",
      "100%|██████████| 100/100 [10:09<00:00,  6.09s/it]\n",
      "Results: black(greedy): 4, white(greedy_defender): 96, ties: 0\n",
      "Running greedy_defender against random\n",
      "100%|██████████| 100/100 [01:02<00:00,  1.60it/s]\n",
      "Results: black(greedy_defender): 100, white(random): 0, ties: 0\n",
      "Running greedy_defender against greedy\n",
      "100%|██████████| 100/100 [07:49<00:00,  4.69s/it]\n",
      "Results: black(greedy_defender): 100, white(greedy): 0, ties: 0\n",
      "Running greedy_defender against greedy_defender\n",
      "100%|██████████| 100/100 [07:03<00:00,  4.24s/it]Results: black(greedy_defender): 51, white(greedy_defender): 48, ties: 1\n",
      "\n"
     ]
    }
   ],
   "source": [
    "df_14 = evaluate_game(GameManager(size=14, quiet=True))"
   ]
  },
  {
   "cell_type": "code",
   "execution_count": 14,
   "metadata": {},
   "outputs": [
    {
     "output_type": "execute_result",
     "data": {
      "text/plain": [
       "             black            white wins (black) wins (white) ties\n",
       "0           random           random           52           48    0\n",
       "1           random           greedy            0          100    0\n",
       "2           random  greedy_defender            0          100    0\n",
       "3           greedy           random          100            0    0\n",
       "4           greedy           greedy          100            0    0\n",
       "5           greedy  greedy_defender            4           96    0\n",
       "6  greedy_defender           random          100            0    0\n",
       "7  greedy_defender           greedy          100            0    0\n",
       "8  greedy_defender  greedy_defender           51           48    1"
      ],
      "text/html": "<div>\n<style scoped>\n    .dataframe tbody tr th:only-of-type {\n        vertical-align: middle;\n    }\n\n    .dataframe tbody tr th {\n        vertical-align: top;\n    }\n\n    .dataframe thead th {\n        text-align: right;\n    }\n</style>\n<table border=\"1\" class=\"dataframe\">\n  <thead>\n    <tr style=\"text-align: right;\">\n      <th></th>\n      <th>black</th>\n      <th>white</th>\n      <th>wins (black)</th>\n      <th>wins (white)</th>\n      <th>ties</th>\n    </tr>\n  </thead>\n  <tbody>\n    <tr>\n      <th>0</th>\n      <td>random</td>\n      <td>random</td>\n      <td>52</td>\n      <td>48</td>\n      <td>0</td>\n    </tr>\n    <tr>\n      <th>1</th>\n      <td>random</td>\n      <td>greedy</td>\n      <td>0</td>\n      <td>100</td>\n      <td>0</td>\n    </tr>\n    <tr>\n      <th>2</th>\n      <td>random</td>\n      <td>greedy_defender</td>\n      <td>0</td>\n      <td>100</td>\n      <td>0</td>\n    </tr>\n    <tr>\n      <th>3</th>\n      <td>greedy</td>\n      <td>random</td>\n      <td>100</td>\n      <td>0</td>\n      <td>0</td>\n    </tr>\n    <tr>\n      <th>4</th>\n      <td>greedy</td>\n      <td>greedy</td>\n      <td>100</td>\n      <td>0</td>\n      <td>0</td>\n    </tr>\n    <tr>\n      <th>5</th>\n      <td>greedy</td>\n      <td>greedy_defender</td>\n      <td>4</td>\n      <td>96</td>\n      <td>0</td>\n    </tr>\n    <tr>\n      <th>6</th>\n      <td>greedy_defender</td>\n      <td>random</td>\n      <td>100</td>\n      <td>0</td>\n      <td>0</td>\n    </tr>\n    <tr>\n      <th>7</th>\n      <td>greedy_defender</td>\n      <td>greedy</td>\n      <td>100</td>\n      <td>0</td>\n      <td>0</td>\n    </tr>\n    <tr>\n      <th>8</th>\n      <td>greedy_defender</td>\n      <td>greedy_defender</td>\n      <td>51</td>\n      <td>48</td>\n      <td>1</td>\n    </tr>\n  </tbody>\n</table>\n</div>"
     },
     "metadata": {},
     "execution_count": 14
    }
   ],
   "source": [
    "df_14"
   ]
  },
  {
   "cell_type": "code",
   "execution_count": 15,
   "metadata": {},
   "outputs": [
    {
     "output_type": "execute_result",
     "data": {
      "text/plain": [
       "white             greedy greedy_defender   random\n",
       "black                                            \n",
       "greedy           100/0/0          4/96/0  100/0/0\n",
       "greedy_defender  100/0/0         51/48/1  100/0/0\n",
       "random           0/100/0         0/100/0  52/48/0"
      ],
      "text/html": "<div>\n<style scoped>\n    .dataframe tbody tr th:only-of-type {\n        vertical-align: middle;\n    }\n\n    .dataframe tbody tr th {\n        vertical-align: top;\n    }\n\n    .dataframe thead th {\n        text-align: right;\n    }\n</style>\n<table border=\"1\" class=\"dataframe\">\n  <thead>\n    <tr style=\"text-align: right;\">\n      <th>white</th>\n      <th>greedy</th>\n      <th>greedy_defender</th>\n      <th>random</th>\n    </tr>\n    <tr>\n      <th>black</th>\n      <th></th>\n      <th></th>\n      <th></th>\n    </tr>\n  </thead>\n  <tbody>\n    <tr>\n      <th>greedy</th>\n      <td>100/0/0</td>\n      <td>4/96/0</td>\n      <td>100/0/0</td>\n    </tr>\n    <tr>\n      <th>greedy_defender</th>\n      <td>100/0/0</td>\n      <td>51/48/1</td>\n      <td>100/0/0</td>\n    </tr>\n    <tr>\n      <th>random</th>\n      <td>0/100/0</td>\n      <td>0/100/0</td>\n      <td>52/48/0</td>\n    </tr>\n  </tbody>\n</table>\n</div>"
     },
     "metadata": {},
     "execution_count": 15
    }
   ],
   "source": [
    "pivot_table(df_14)"
   ]
  },
  {
   "source": [
    "## 19 x 19"
   ],
   "cell_type": "markdown",
   "metadata": {}
  },
  {
   "cell_type": "code",
   "execution_count": 16,
   "metadata": {},
   "outputs": [
    {
     "output_type": "stream",
     "name": "stdout",
     "text": [
      "Running random against random\n",
      "100%|██████████| 100/100 [00:07<00:00, 13.61it/s]\n",
      "Results: black(random): 57, white(random): 43, ties: 0\n",
      "Running random against greedy\n",
      "100%|██████████| 100/100 [01:03<00:00,  1.57it/s]\n",
      "Results: black(random): 0, white(greedy): 100, ties: 0\n",
      "Running random against greedy_defender\n",
      "100%|██████████| 100/100 [02:14<00:00,  1.34s/it]\n",
      "Results: black(random): 0, white(greedy_defender): 100, ties: 0\n",
      "Running greedy against random\n",
      "100%|██████████| 100/100 [01:02<00:00,  1.60it/s]\n",
      "Results: black(greedy): 100, white(random): 0, ties: 0\n",
      "Running greedy against greedy\n",
      "100%|██████████| 100/100 [01:51<00:00,  1.11s/it]\n",
      "Results: black(greedy): 100, white(greedy): 0, ties: 0\n",
      "Running greedy against greedy_defender\n",
      "100%|██████████| 100/100 [04:40<00:00,  2.81s/it]\n",
      "Results: black(greedy): 6, white(greedy_defender): 94, ties: 0\n",
      "Running greedy_defender against random\n",
      "100%|██████████| 100/100 [02:00<00:00,  1.21s/it]\n",
      "Results: black(greedy_defender): 100, white(random): 0, ties: 0\n",
      "Running greedy_defender against greedy\n",
      "100%|██████████| 100/100 [06:26<00:00,  3.86s/it]\n",
      "Results: black(greedy_defender): 100, white(greedy): 0, ties: 0\n",
      "Running greedy_defender against greedy_defender\n",
      "100%|██████████| 100/100 [1:04:15<00:00, 38.56s/it]Results: black(greedy_defender): 48, white(greedy_defender): 52, ties: 0\n",
      "\n"
     ]
    }
   ],
   "source": [
    "df_19 = evaluate_game(GameManager(size=19, quiet=True))"
   ]
  },
  {
   "cell_type": "code",
   "execution_count": 17,
   "metadata": {},
   "outputs": [
    {
     "output_type": "execute_result",
     "data": {
      "text/plain": [
       "             black            white wins (black) wins (white) ties\n",
       "0           random           random           57           43    0\n",
       "1           random           greedy            0          100    0\n",
       "2           random  greedy_defender            0          100    0\n",
       "3           greedy           random          100            0    0\n",
       "4           greedy           greedy          100            0    0\n",
       "5           greedy  greedy_defender            6           94    0\n",
       "6  greedy_defender           random          100            0    0\n",
       "7  greedy_defender           greedy          100            0    0\n",
       "8  greedy_defender  greedy_defender           48           52    0"
      ],
      "text/html": "<div>\n<style scoped>\n    .dataframe tbody tr th:only-of-type {\n        vertical-align: middle;\n    }\n\n    .dataframe tbody tr th {\n        vertical-align: top;\n    }\n\n    .dataframe thead th {\n        text-align: right;\n    }\n</style>\n<table border=\"1\" class=\"dataframe\">\n  <thead>\n    <tr style=\"text-align: right;\">\n      <th></th>\n      <th>black</th>\n      <th>white</th>\n      <th>wins (black)</th>\n      <th>wins (white)</th>\n      <th>ties</th>\n    </tr>\n  </thead>\n  <tbody>\n    <tr>\n      <th>0</th>\n      <td>random</td>\n      <td>random</td>\n      <td>57</td>\n      <td>43</td>\n      <td>0</td>\n    </tr>\n    <tr>\n      <th>1</th>\n      <td>random</td>\n      <td>greedy</td>\n      <td>0</td>\n      <td>100</td>\n      <td>0</td>\n    </tr>\n    <tr>\n      <th>2</th>\n      <td>random</td>\n      <td>greedy_defender</td>\n      <td>0</td>\n      <td>100</td>\n      <td>0</td>\n    </tr>\n    <tr>\n      <th>3</th>\n      <td>greedy</td>\n      <td>random</td>\n      <td>100</td>\n      <td>0</td>\n      <td>0</td>\n    </tr>\n    <tr>\n      <th>4</th>\n      <td>greedy</td>\n      <td>greedy</td>\n      <td>100</td>\n      <td>0</td>\n      <td>0</td>\n    </tr>\n    <tr>\n      <th>5</th>\n      <td>greedy</td>\n      <td>greedy_defender</td>\n      <td>6</td>\n      <td>94</td>\n      <td>0</td>\n    </tr>\n    <tr>\n      <th>6</th>\n      <td>greedy_defender</td>\n      <td>random</td>\n      <td>100</td>\n      <td>0</td>\n      <td>0</td>\n    </tr>\n    <tr>\n      <th>7</th>\n      <td>greedy_defender</td>\n      <td>greedy</td>\n      <td>100</td>\n      <td>0</td>\n      <td>0</td>\n    </tr>\n    <tr>\n      <th>8</th>\n      <td>greedy_defender</td>\n      <td>greedy_defender</td>\n      <td>48</td>\n      <td>52</td>\n      <td>0</td>\n    </tr>\n  </tbody>\n</table>\n</div>"
     },
     "metadata": {},
     "execution_count": 17
    }
   ],
   "source": [
    "df_19"
   ]
  },
  {
   "cell_type": "code",
   "execution_count": 18,
   "metadata": {},
   "outputs": [
    {
     "output_type": "execute_result",
     "data": {
      "text/plain": [
       "white             greedy greedy_defender   random\n",
       "black                                            \n",
       "greedy           100/0/0          6/94/0  100/0/0\n",
       "greedy_defender  100/0/0         48/52/0  100/0/0\n",
       "random           0/100/0         0/100/0  57/43/0"
      ],
      "text/html": "<div>\n<style scoped>\n    .dataframe tbody tr th:only-of-type {\n        vertical-align: middle;\n    }\n\n    .dataframe tbody tr th {\n        vertical-align: top;\n    }\n\n    .dataframe thead th {\n        text-align: right;\n    }\n</style>\n<table border=\"1\" class=\"dataframe\">\n  <thead>\n    <tr style=\"text-align: right;\">\n      <th>white</th>\n      <th>greedy</th>\n      <th>greedy_defender</th>\n      <th>random</th>\n    </tr>\n    <tr>\n      <th>black</th>\n      <th></th>\n      <th></th>\n      <th></th>\n    </tr>\n  </thead>\n  <tbody>\n    <tr>\n      <th>greedy</th>\n      <td>100/0/0</td>\n      <td>6/94/0</td>\n      <td>100/0/0</td>\n    </tr>\n    <tr>\n      <th>greedy_defender</th>\n      <td>100/0/0</td>\n      <td>48/52/0</td>\n      <td>100/0/0</td>\n    </tr>\n    <tr>\n      <th>random</th>\n      <td>0/100/0</td>\n      <td>0/100/0</td>\n      <td>57/43/0</td>\n    </tr>\n  </tbody>\n</table>\n</div>"
     },
     "metadata": {},
     "execution_count": 18
    }
   ],
   "source": [
    "pivot_table(df_19)"
   ]
  },
  {
   "source": [
    "19x19 is the size of a go board, which is where gomoku games are usually played.\n",
    "\n",
    "Note that with the greedy defending agent, black and white win evenly. It is known that black (playing the first move) has a winning strategy if the game is played without additional rules."
   ],
   "cell_type": "markdown",
   "metadata": {}
  }
 ]
}